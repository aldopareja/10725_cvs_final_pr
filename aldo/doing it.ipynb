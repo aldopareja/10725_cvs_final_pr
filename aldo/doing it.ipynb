{
 "cells": [
  {
   "cell_type": "code",
   "execution_count": 1,
   "metadata": {},
   "outputs": [],
   "source": [
    "import cvxpy as cvx\n",
    "import numpy as np"
   ]
  },
  {
   "cell_type": "code",
   "execution_count": null,
   "metadata": {},
   "outputs": [],
   "source": [
    "'''\n",
    "Assuming that we get vector alpha1, alpha2, is first and we put n in the middle\n",
    "'''\n",
    "n = 6\n",
    "\n",
    "alpha1 = np.array([[1,2,3,4,5,6,7,8],\n",
    "                   [1,2,3,4,5,6,7,8]])\n",
    "a1x = alpha1[0,:]\n",
    "a2y = alpha1[1,:]\n",
    "\n",
    "alpha2 = np.arange(10) + 15\n",
    "alpha2 = alpha2[np.newaxis,:]\n",
    "alpha2 = np.repeat(alpha2,2,axis=0)\n",
    "\n",
    "a2x = alpha2[0,:]\n",
    "a2y = alpha2[1,:]\n",
    "\n",
    "Nf = n + len(a1x) + len(a2x)\n",
    "assert Nf%2 == 0 , 'Nf must be odd'\n",
    "cols = Nf//2\n",
    "yhat = cvx.Variable(n)\n",
    "xhat = cvx.Variable(n)\n",
    "X = cvx.Variable(cols,cols)\n",
    "Z = cvx.Variable(cols,cols)\n",
    "\n",
    "totx = cvx.vstack(a1x,xhat,a2x)\n",
    "\n",
    "#build hankel matrix\n",
    "H = []\n",
    "for i in range(cols):\n",
    "    H.append([])\n",
    "    for j in range(cols):\n",
    "        H[i].append(totx[i+j])\n",
    "H = cvx.bmat(H)\n",
    "\n",
    "constr = [Z == Z.T, X == X.T, H >> 0]\n",
    "obj = cvx.trace(X) + cvx.trace(Z)\n",
    "p = cvx.Problem(cvx.Minimize(obj),constr)\n",
    "p.solve()\n",
    "            "
   ]
  },
  {
   "cell_type": "code",
   "execution_count": null,
   "metadata": {},
   "outputs": [],
   "source": []
  },
  {
   "cell_type": "code",
   "execution_count": 8,
   "metadata": {
    "collapsed": true
   },
   "outputs": [],
   "source": [
    "Nf = 2\n",
    "assert Nf%2 == 0 , 'Nf must be odd'"
   ]
  },
  {
   "cell_type": "code",
   "execution_count": 24,
   "metadata": {
    "collapsed": true
   },
   "outputs": [],
   "source": [
    "n = 6\n",
    "\n",
    "alpha1 = np.array([[1,2,3,4,5,6,7,8],\n",
    "                   [1,2,3,4,5,6,7,8]])\n",
    "a1x = alpha1[0,:]\n",
    "a2y = alpha1[1,:]\n",
    "\n",
    "alpha2 = np.arange(10) + 15\n",
    "alpha2 = alpha2[np.newaxis,:]\n",
    "alpha2 = np.repeat(alpha2,2,axis=0)\n",
    "\n",
    "a2x = alpha2[0,:]\n",
    "a2y = alpha2[1,:]\n",
    "\n",
    "xhat = cvx.Variable(n)\n",
    "\n",
    "totx = cvx.vstack(a1x,xhat,a2x)\n",
    "H = totx[0]\n",
    "for i in range(cols):\n",
    "    for j in range(cols):\n",
    "        if i==0 and j== 0:\n",
    "            continue\n",
    "        if (i+j)>= len(alpha1) and (i+j) < len(alpha1) + n:\n",
    "            "
   ]
  },
  {
   "cell_type": "code",
   "execution_count": 26,
   "metadata": {},
   "outputs": [
    {
     "name": "stdout",
     "output_type": "stream",
     "text": [
      "[[1 2 3 4 5 6 7 8]\n",
      " [1 2 3 4 5 6 7 8]]\n",
      "[[15 16 17 18 19 20 21 22 23 24]\n",
      " [15 16 17 18 19 20 21 22 23 24]]\n"
     ]
    }
   ],
   "source": [
    "print(alpha1)\n",
    "print(alpha2)"
   ]
  }
 ],
 "metadata": {
  "kernelspec": {
   "display_name": "Python 3",
   "language": "python",
   "name": "python3"
  },
  "language_info": {
   "codemirror_mode": {
    "name": "ipython",
    "version": 3
   },
   "file_extension": ".py",
   "mimetype": "text/x-python",
   "name": "python",
   "nbconvert_exporter": "python",
   "pygments_lexer": "ipython3",
   "version": "3.6.3"
  }
 },
 "nbformat": 4,
 "nbformat_minor": 2
}
