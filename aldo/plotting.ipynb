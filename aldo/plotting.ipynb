{
 "cells": [
  {
   "cell_type": "code",
   "execution_count": 4,
   "metadata": {},
   "outputs": [],
   "source": [
    "import matplotlib.pyplot as plt\n",
    "import numpy as np\n",
    "import os"
   ]
  },
  {
   "cell_type": "code",
   "execution_count": 8,
   "metadata": {},
   "outputs": [
    {
     "name": "stdout",
     "output_type": "stream",
     "text": [
      "[[         nan   0.           1.           2.           3.           4.\n",
      "    5.           6.           7.           8.           9.          10.\n",
      "   11.          12.          13.          14.          15.          16.\n",
      "   17.          18.          19.          20.        ]\n",
      " [  0.           6.10299712   6.08572002   7.37530561   7.63972287\n",
      "    7.66940975   8.70788225   9.11883276          nan          nan\n",
      "           nan          nan          nan          nan          nan\n",
      "           nan          nan          nan          nan          nan\n",
      "           nan          nan]\n",
      " [  1.           6.73337633   7.62272266   8.41214836   8.50745978\n",
      "   10.74747019  10.81030952  11.4658757           nan          nan\n",
      "           nan          nan          nan          nan          nan\n",
      "           nan          nan          nan          nan          nan\n",
      "           nan          nan]\n",
      " [  2.           2.           9.                  nan          nan\n",
      "           nan          nan          nan          nan          nan\n",
      "           nan          nan          nan          nan          nan\n",
      "           nan          nan          nan          nan          nan\n",
      "           nan          nan]\n",
      " [  3.          11.73307914  12.56762063  14.04408142  15.15603646\n",
      "   17.17662059  18.19722314  19.82236775  21.25437725  22.14794725\n",
      "   24.33379851  25.12107941  28.27201968  29.19412984  32.38039711\n",
      "   32.66352484  34.5196588   36.0180658   38.64100052  39.82146121\n",
      "   41.23457807  42.80627458]\n",
      " [  4.          11.38495372  13.06888496  12.71515146  14.60112527\n",
      "   14.70367543  15.76010165  16.54283687  18.1270268   18.35289371\n",
      "   19.12778946  19.03637237  19.30805662  20.7546375   21.5550714\n",
      "   20.71368003  20.61242954  20.72433081  20.41588902  20.61680012\n",
      "   21.27192116  20.87831767]\n",
      " [  5.          13.          34.                  nan          nan\n",
      "           nan          nan          nan          nan          nan\n",
      "           nan          nan          nan          nan          nan\n",
      "           nan          nan          nan          nan          nan\n",
      "           nan          nan]\n",
      " [  6.           4.                  nan          nan          nan\n",
      "           nan          nan          nan          nan          nan\n",
      "           nan          nan          nan          nan          nan\n",
      "           nan          nan          nan          nan          nan\n",
      "           nan          nan]\n",
      " [  7.           0.           3.                  nan          nan\n",
      "           nan          nan          nan          nan          nan\n",
      "           nan          nan          nan          nan          nan\n",
      "           nan          nan          nan          nan          nan\n",
      "           nan          nan]]\n"
     ]
    }
   ],
   "source": [
    "folder = '3_obj/csv_3_11/'\n",
    "files = os.listdir(folder)\n",
    "for f in files:\n",
    "    if f.startswith('alpha'):\n",
    "        data = np.genfromtxt(folder+f, delimiter=',')\n",
    "        print(data)\n",
    "        break"
   ]
  },
  {
   "cell_type": "code",
   "execution_count": null,
   "metadata": {},
   "outputs": [],
   "source": []
  }
 ],
 "metadata": {
  "kernelspec": {
   "display_name": "Python 3",
   "language": "python",
   "name": "python3"
  },
  "language_info": {
   "codemirror_mode": {
    "name": "ipython",
    "version": 3
   },
   "file_extension": ".py",
   "mimetype": "text/x-python",
   "name": "python",
   "nbconvert_exporter": "python",
   "pygments_lexer": "ipython3",
   "version": "3.6.3"
  }
 },
 "nbformat": 4,
 "nbformat_minor": 2
}
