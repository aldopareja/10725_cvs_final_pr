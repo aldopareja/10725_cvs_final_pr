{
 "cells": [
  {
   "cell_type": "code",
   "execution_count": 1,
   "metadata": {
    "collapsed": true
   },
   "outputs": [],
   "source": [
    "# Solve a multi-commodity flow problem.  Two products ('Pencils' and 'Pens')\n",
    "# are produced in 2 cities ('Detroit' and 'Denver') and must be sent to\n",
    "# warehouses in 3 cities ('Boston', 'New York', and 'Seattle') to\n",
    "# satisfy demand ('inflow[h,i]').\n",
    "#\n",
    "# Flows on the transportation network must respect arc capacity constraints\n",
    "# ('capacity[i,j]'). The objective is to minimize the sum of the arc\n",
    "# transportation costs ('cost[i,j]').\n",
    "\n",
    "from gurobipy import *"
   ]
  },
  {
   "cell_type": "code",
   "execution_count": 2,
   "metadata": {
    "collapsed": true
   },
   "outputs": [],
   "source": [
    "# Model data\n",
    "\n",
    "commodities = ['Pencils', 'Pens']\n",
    "nodes = ['Detroit', 'Denver', 'Boston', 'New York', 'Seattle']\n",
    "\n",
    "arcs, capacity = multidict({\n",
    "  ('Detroit', 'Boston'):   100,\n",
    "  ('Detroit', 'New York'):  80,\n",
    "  ('Detroit', 'Seattle'):  120,\n",
    "  ('Denver',  'Boston'):   120,\n",
    "  ('Denver',  'New York'): 120,\n",
    "  ('Denver',  'Seattle'):  120 })\n",
    "\n",
    "cost = {\n",
    "  ('Pencils', 'Detroit', 'Boston'):   10,\n",
    "  ('Pencils', 'Detroit', 'New York'): 20,\n",
    "  ('Pencils', 'Detroit', 'Seattle'):  60,\n",
    "  ('Pencils', 'Denver',  'Boston'):   40,\n",
    "  ('Pencils', 'Denver',  'New York'): 40,\n",
    "  ('Pencils', 'Denver',  'Seattle'):  30,\n",
    "  ('Pens',    'Detroit', 'Boston'):   20,\n",
    "  ('Pens',    'Detroit', 'New York'): 20,\n",
    "  ('Pens',    'Detroit', 'Seattle'):  80,\n",
    "  ('Pens',    'Denver',  'Boston'):   60,\n",
    "  ('Pens',    'Denver',  'New York'): 70,\n",
    "  ('Pens',    'Denver',  'Seattle'):  30 }\n",
    "\n",
    "inflow = {\n",
    "  ('Pencils', 'Detroit'):   50,\n",
    "  ('Pencils', 'Denver'):    60,\n",
    "  ('Pencils', 'Boston'):   -50,\n",
    "  ('Pencils', 'New York'): -50,\n",
    "  ('Pencils', 'Seattle'):  -10,\n",
    "  ('Pens',    'Detroit'):   60,\n",
    "  ('Pens',    'Denver'):    40,\n",
    "  ('Pens',    'Boston'):   -40,\n",
    "  ('Pens',    'New York'): -30,\n",
    "  ('Pens',    'Seattle'):  -30 }"
   ]
  },
  {
   "cell_type": "code",
   "execution_count": 3,
   "metadata": {},
   "outputs": [
    {
     "data": {
      "text/plain": [
       "{('Pencils', 'Boston'): <gurobi.Constr *Awaiting Model Update*>,\n",
       " ('Pencils', 'Denver'): <gurobi.Constr *Awaiting Model Update*>,\n",
       " ('Pencils', 'Detroit'): <gurobi.Constr *Awaiting Model Update*>,\n",
       " ('Pencils', 'New York'): <gurobi.Constr *Awaiting Model Update*>,\n",
       " ('Pencils', 'Seattle'): <gurobi.Constr *Awaiting Model Update*>,\n",
       " ('Pens', 'Boston'): <gurobi.Constr *Awaiting Model Update*>,\n",
       " ('Pens', 'Denver'): <gurobi.Constr *Awaiting Model Update*>,\n",
       " ('Pens', 'Detroit'): <gurobi.Constr *Awaiting Model Update*>,\n",
       " ('Pens', 'New York'): <gurobi.Constr *Awaiting Model Update*>,\n",
       " ('Pens', 'Seattle'): <gurobi.Constr *Awaiting Model Update*>}"
      ]
     },
     "execution_count": 3,
     "metadata": {},
     "output_type": "execute_result"
    }
   ],
   "source": [
    "# Create optimization model (first version without looping)\n",
    "m = Model('netflow')\n",
    "\n",
    "# Create variables\n",
    "flow = m.addVars(commodities, arcs, obj=cost, name=\"flow\")\n",
    "\n",
    "# Arc capacity constraints\n",
    "m.addConstrs(\n",
    "    (flow.sum('*',i,j) <= capacity[i,j] for i,j in arcs), \"cap\")\n",
    "\n",
    "# Flow conservation constraints\n",
    "m.addConstrs(\n",
    "    (flow.sum(h,'*',j) + inflow[h,j] == flow.sum(h,j,'*')\n",
    "    for h in commodities for j in nodes), \"node\")"
   ]
  },
  {
   "cell_type": "code",
   "execution_count": 4,
   "metadata": {},
   "outputs": [
    {
     "name": "stdout",
     "output_type": "stream",
     "text": [
      "Optimize a model with 16 rows, 12 columns and 36 nonzeros\n",
      "Coefficient statistics:\n",
      "  Matrix range     [1e+00, 1e+00]\n",
      "  Objective range  [1e+01, 8e+01]\n",
      "  Bounds range     [0e+00, 0e+00]\n",
      "  RHS range        [1e+01, 1e+02]\n",
      "Presolve removed 16 rows and 12 columns\n",
      "Presolve time: 0.04s\n",
      "Presolve: All rows and columns removed\n",
      "Iteration    Objective       Primal Inf.    Dual Inf.      Time\n",
      "       0    5.5000000e+03   0.000000e+00   0.000000e+00      0s\n",
      "\n",
      "Solved in 0 iterations and 0.05 seconds\n",
      "Optimal objective  5.500000000e+03\n"
     ]
    }
   ],
   "source": [
    "# Compute optimal solution\n",
    "m.optimize()"
   ]
  },
  {
   "cell_type": "code",
   "execution_count": 5,
   "metadata": {},
   "outputs": [
    {
     "name": "stdout",
     "output_type": "stream",
     "text": [
      "\n",
      "Optimal flows for Pencils:\n",
      "Denver -> Seattle: 10\n",
      "Denver -> New York: 50\n",
      "Detroit -> Boston: 50\n",
      "\n",
      "Optimal flows for Pens:\n",
      "Denver -> Seattle: 30\n",
      "Detroit -> New York: 30\n",
      "Detroit -> Boston: 30\n",
      "Denver -> Boston: 10\n"
     ]
    }
   ],
   "source": [
    "# Print solution\n",
    "if m.status == GRB.Status.OPTIMAL:\n",
    "    solution = m.getAttr('x', flow)\n",
    "    for h in commodities:\n",
    "        print('\\nOptimal flows for %s:' % h)\n",
    "        for i,j in arcs:\n",
    "            if solution[h,i,j] > 0:\n",
    "                print('%s -> %s: %g' % (i, j, solution[h,i,j]))"
   ]
  },
  {
   "cell_type": "code",
   "execution_count": 6,
   "metadata": {},
   "outputs": [
    {
     "data": {
      "text/plain": [
       "{('Pencils', 'Boston'): <gurobi.Constr *Awaiting Model Update*>,\n",
       " ('Pencils', 'Denver'): <gurobi.Constr *Awaiting Model Update*>,\n",
       " ('Pencils', 'Detroit'): <gurobi.Constr *Awaiting Model Update*>,\n",
       " ('Pencils', 'New York'): <gurobi.Constr *Awaiting Model Update*>,\n",
       " ('Pencils', 'Seattle'): <gurobi.Constr *Awaiting Model Update*>,\n",
       " ('Pens', 'Boston'): <gurobi.Constr *Awaiting Model Update*>,\n",
       " ('Pens', 'Denver'): <gurobi.Constr *Awaiting Model Update*>,\n",
       " ('Pens', 'Detroit'): <gurobi.Constr *Awaiting Model Update*>,\n",
       " ('Pens', 'New York'): <gurobi.Constr *Awaiting Model Update*>,\n",
       " ('Pens', 'Seattle'): <gurobi.Constr *Awaiting Model Update*>}"
      ]
     },
     "execution_count": 6,
     "metadata": {},
     "output_type": "execute_result"
    }
   ],
   "source": [
    "# Create optimization model (first version with looping)\n",
    "m2 = Model('netflow')\n",
    "\n",
    "# Create variables\n",
    "flow = m2.addVars(commodities, arcs, obj=cost, name=\"flow\")\n",
    "\n",
    "# Arc capacity constraints\n",
    "for i,j in arcs:\n",
    "  m2.addConstr(sum(flow[h,i,j] for h in commodities) <= capacity[i,j],\n",
    "              \"cap[%s,%s]\" % (i, j))\n",
    "\n",
    "# Flow conservation constraints\n",
    "m2.addConstrs(\n",
    "  (quicksum(flow[h,i,j] for i,j in arcs.select('*',j)) + inflow[h,j] ==\n",
    "    quicksum(flow[h,j,k] for j,k in arcs.select(j,'*'))\n",
    "    for h in commodities for j in nodes), \"node\")"
   ]
  },
  {
   "cell_type": "code",
   "execution_count": 7,
   "metadata": {},
   "outputs": [
    {
     "name": "stdout",
     "output_type": "stream",
     "text": [
      "Optimize a model with 16 rows, 12 columns and 36 nonzeros\n",
      "Coefficient statistics:\n",
      "  Matrix range     [1e+00, 1e+00]\n",
      "  Objective range  [1e+01, 8e+01]\n",
      "  Bounds range     [0e+00, 0e+00]\n",
      "  RHS range        [1e+01, 1e+02]\n",
      "Presolve removed 16 rows and 12 columns\n",
      "Presolve time: 0.01s\n",
      "Presolve: All rows and columns removed\n",
      "Iteration    Objective       Primal Inf.    Dual Inf.      Time\n",
      "       0    5.5000000e+03   0.000000e+00   0.000000e+00      0s\n",
      "\n",
      "Solved in 0 iterations and 0.01 seconds\n",
      "Optimal objective  5.500000000e+03\n"
     ]
    }
   ],
   "source": [
    "# Compute optimal solution\n",
    "m2.optimize()"
   ]
  },
  {
   "cell_type": "code",
   "execution_count": 8,
   "metadata": {},
   "outputs": [
    {
     "name": "stdout",
     "output_type": "stream",
     "text": [
      "\n",
      "Optimal flows for Pencils:\n",
      "Denver -> Seattle: 10\n",
      "Denver -> New York: 50\n",
      "Detroit -> Boston: 50\n",
      "\n",
      "Optimal flows for Pens:\n",
      "Denver -> Seattle: 30\n",
      "Detroit -> New York: 30\n",
      "Detroit -> Boston: 30\n",
      "Denver -> Boston: 10\n"
     ]
    }
   ],
   "source": [
    "# Print solution\n",
    "if m2.status == GRB.Status.OPTIMAL:\n",
    "    solution = m2.getAttr('x', flow)\n",
    "    for h in commodities:\n",
    "        print('\\nOptimal flows for %s:' % h)\n",
    "        for i,j in arcs:\n",
    "            if solution[h,i,j] > 0:\n",
    "                print('%s -> %s: %g' % (i, j, solution[h,i,j]))"
   ]
  },
  {
   "cell_type": "code",
   "execution_count": null,
   "metadata": {
    "collapsed": true
   },
   "outputs": [],
   "source": []
  }
 ],
 "metadata": {
  "kernelspec": {
   "display_name": "Python 2",
   "language": "python",
   "name": "python2"
  },
  "language_info": {
   "codemirror_mode": {
    "name": "ipython",
    "version": 2
   },
   "file_extension": ".py",
   "mimetype": "text/x-python",
   "name": "python",
   "nbconvert_exporter": "python",
   "pygments_lexer": "ipython2",
   "version": "2.7.12"
  }
 },
 "nbformat": 4,
 "nbformat_minor": 2
}
