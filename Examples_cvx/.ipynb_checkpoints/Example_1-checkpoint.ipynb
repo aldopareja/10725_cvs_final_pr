{
 "cells": [
  {
   "cell_type": "code",
   "execution_count": 1,
   "metadata": {
    "collapsed": true
   },
   "outputs": [],
   "source": [
    "# This script finds a PSD matrix that is closest to a given symmetric,\n",
    "# real matrix, as measured by the Frobenius norm. That is, for\n",
    "# a given matrix P, it solves:\n",
    "#    minimize   || Z - P ||_F\n",
    "#    subject to Z >= 0\n",
    "# Adapted from an example provided in the SeDuMi documentation and CVX examples.\n",
    "# Unlike those examples, the data is real (not complex) and the result is only\n",
    "# required to be PSD (instead of also Toeplitz)\n",
    "import cvxpy as cp\n",
    "import numpy as np\n",
    "import cvxopt"
   ]
  },
  {
   "cell_type": "code",
   "execution_count": 2,
   "metadata": {
    "collapsed": true
   },
   "outputs": [],
   "source": [
    "# create data P\n",
    "P = cp.Parameter(3,3)\n",
    "Z = cp.semidefinite(3)"
   ]
  },
  {
   "cell_type": "code",
   "execution_count": 3,
   "metadata": {
    "collapsed": true
   },
   "outputs": [],
   "source": [
    "# create objective\n",
    "\n",
    "objective = cp.Minimize( cp.lambda_max(P) - cp.lambda_min(P - Z) )"
   ]
  },
  {
   "cell_type": "code",
   "execution_count": 5,
   "metadata": {},
   "outputs": [],
   "source": [
    "# create sdp constraints \n",
    "prob = cp.Problem(objective, [Z >= 0])"
   ]
  },
  {
   "cell_type": "code",
   "execution_count": 14,
   "metadata": {},
   "outputs": [],
   "source": [
    "# create matrix P\n",
    "P.value = np.matrix('4 1 3; 1 3.5 0.8; 3 0.8 1')"
   ]
  },
  {
   "cell_type": "code",
   "execution_count": 17,
   "metadata": {},
   "outputs": [
    {
     "name": "stdout",
     "output_type": "stream",
     "text": [
      "optimal value = 7.2699793253\n",
      "matrix Z = [[ 2.9332634   1.60412553  1.85473625]\n",
      " [ 1.60412553  2.47548605  1.08451168]\n",
      " [ 1.85473625  1.08451168  1.17585493]]\n"
     ]
    }
   ],
   "source": [
    "# solve the problem\n",
    "\n",
    "prob.solve()\n",
    "print \"optimal value =\", prob.value\n",
    "print \"matrix Z =\",Z.value"
   ]
  },
  {
   "cell_type": "code",
   "execution_count": null,
   "metadata": {
    "collapsed": true
   },
   "outputs": [],
   "source": []
  }
 ],
 "metadata": {
  "kernelspec": {
   "display_name": "Python 2",
   "language": "python",
   "name": "python2"
  },
  "language_info": {
   "codemirror_mode": {
    "name": "ipython",
    "version": 2
   },
   "file_extension": ".py",
   "mimetype": "text/x-python",
   "name": "python",
   "nbconvert_exporter": "python",
   "pygments_lexer": "ipython2",
   "version": "2.7.12"
  }
 },
 "nbformat": 4,
 "nbformat_minor": 2
}
