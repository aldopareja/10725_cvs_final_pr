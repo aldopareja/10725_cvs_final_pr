{
 "cells": [
  {
   "cell_type": "code",
   "execution_count": 25,
   "metadata": {
    "collapsed": true
   },
   "outputs": [],
   "source": [
    "# Solve a generalized assignment problem between the different tracklets \n",
    "# setting similarity weights on the assignments such that we maximize the\n",
    "# total assignment weigthed objective and match the most likely tracklets\n",
    "from gurobipy import *\n",
    "from numpy import *\n",
    "import os\n",
    "import glob"
   ]
  },
  {
   "cell_type": "code",
   "execution_count": 27,
   "metadata": {},
   "outputs": [],
   "source": [
    "directory = os.path.join(\"c:\\\\\",\"path\")\n",
    "\n",
    "for root,dirs,files in os.walk(directory):\n",
    "    for file in files:\n",
    "        if file.endswith(\".csv\"):\n",
    "            f=open(file, 'r')\n",
    "           #  perform calculation\n",
    "            f.close()"
   ]
  },
  {
   "cell_type": "code",
   "execution_count": 79,
   "metadata": {},
   "outputs": [
    {
     "name": "stdout",
     "output_type": "stream",
     "text": [
      "/home/david/Dropbox/Ubuntu/Convex_Optimization/Project/Experiments/3_obj/csv_3_11\n",
      "[[ -1.00000000e+03  -1.00000000e+03  -1.00000000e+03   5.20000000e-01\n",
      "   -3.02220000e-01  -5.38440000e-01  -1.07170000e+00]\n",
      " [ -1.00000000e+03  -1.00000000e+03  -1.00000000e+03   2.02000000e+00\n",
      "   -1.00000000e+03  -4.95150000e-01  -8.92700000e-01]\n",
      " [ -1.00000000e+03  -1.00000000e+03  -1.00000000e+03  -1.00000000e+03\n",
      "   -1.00000000e+03  -8.71030000e-01  -1.10730000e+00]\n",
      " [ -1.00000000e+03  -1.00000000e+03  -1.00000000e+03  -1.00000000e+03\n",
      "   -1.00000000e+03  -4.11820000e-01  -7.85560000e-01]]\n",
      "Optimize a model with 11 rows, 28 columns and 56 nonzeros\n",
      "Variable types: 0 continuous, 28 integer (28 binary)\n",
      "Coefficient statistics:\n",
      "  Matrix range     [1e+00, 1e+00]\n",
      "  Objective range  [3e-01, 1e+03]\n",
      "  Bounds range     [1e+00, 1e+00]\n",
      "  RHS range        [1e+00, 1e+00]\n",
      "Found heuristic solution: objective 0.52\n",
      "Presolve removed 11 rows and 28 columns\n",
      "Presolve time: 0.00s\n",
      "Presolve: All rows and columns removed\n",
      "\n",
      "Explored 0 nodes (0 simplex iterations) in 0.01 seconds\n",
      "Thread count was 1 (of 8 available processors)\n",
      "\n",
      "Solution count 2: 2.02 0.52 \n",
      "\n",
      "Optimal solution found (tolerance 1.00e-04)\n",
      "Best objective 2.020000000000e+00, best bound 2.020000000000e+00, gap 0.0000%\n",
      "runtime is 0.0183501243591 s\n",
      "1 -> 3\n",
      "[[ 0.  0.  0.  0.  0.  0.  0.]\n",
      " [ 0.  0.  0.  1.  0.  0.  0.]\n",
      " [ 0.  0.  0.  0.  0.  0.  0.]\n",
      " [ 0.  0.  0.  0.  0.  0.  0.]]\n"
     ]
    }
   ],
   "source": [
    "import fnmatch\n",
    "import os\n",
    "\n",
    "matches = []\n",
    "for root, dirnames, filenames in os.walk(cwd):\n",
    "    for filename in fnmatch.filter(filenames, 'Pij_5.csv'):\n",
    "        file_path = os.path.join(root, filename)\n",
    "        P = loadtxt(open(root + '/' + filename, \"rb\"), delimiter=\",\")\n",
    "        if root == '/home/david/Dropbox/Ubuntu/Convex_Optimization/Project/Experiments/3_obj/csv_3_11':\n",
    "            print root\n",
    "            print P\n",
    "            numT = shape(P)[0]\n",
    "            numC = shape(P)[1]\n",
    "\n",
    "            T=range(numT)\n",
    "            C=range(numC)\n",
    "\n",
    "            # Initialize the model\n",
    "            m=Model(\"Assignment\")\n",
    "\n",
    "            # Define the binary variables Xs\n",
    "            X = []\n",
    "            for t in T:\n",
    "                X.append([])\n",
    "                for c in C:\n",
    "                    X[t].append(m.addVar(vtype=GRB.BINARY,name=\"X%d%d\"% (t, c)))\n",
    "\n",
    "            # Set the optimization direction\n",
    "            m.update()\n",
    "            m.modelSense = GRB.MAXIMIZE\n",
    "\n",
    "\n",
    "            # Define the assignment constraints\n",
    "            constraintT = []\n",
    "            constraintC = []\n",
    "\n",
    "            # One variable assigned per column\n",
    "            for t in range(numT):\n",
    "                constraintT.append(m.addConstr(quicksum(X[t][c] for c in range(numC))\n",
    "                                               <= 1 ,'constraintT%d' % t))\n",
    "\n",
    "            # One variable assigned per row\n",
    "            for c in range(numC):\n",
    "                constraintT.append(m.addConstr(quicksum(X[t][c] for t in range(numT))\n",
    "                                               <= 1 ,'constraintC%d' % t))\n",
    "\n",
    "\n",
    "            # Define objective\n",
    "            m.setObjective(quicksum(quicksum([X[t][c]*P[t][c] \n",
    "                                    for c in range(numC)]) \n",
    "                                    for t in range(numT)))\n",
    "\n",
    "            m.update()\n",
    "\n",
    "            # Solve the optimization problem\n",
    "            m.optimize()\n",
    "\n",
    "            # Print runtime and solution\n",
    "\n",
    "            print 'runtime is',m.Runtime, 's'\n",
    "\n",
    "            Xsol = zeros((numT,numC))\n",
    "            # Print solution\n",
    "            if m.status == GRB.Status.OPTIMAL:\n",
    "                for t in range(numT):\n",
    "                    for c in range(numC):\n",
    "                        if X[t][c].x > 0.5:\n",
    "                            print('%g -> %g' % (t, c))\n",
    "                            Xsol[t][c] = 1\n",
    "            print Xsol\n",
    "            name_sol = root + \"/Assignment.csv\"\n",
    "            savetxt(name_sol, Xsol, delimiter=\",\")"
   ]
  },
  {
   "cell_type": "code",
   "execution_count": 47,
   "metadata": {},
   "outputs": [],
   "source": []
  },
  {
   "cell_type": "code",
   "execution_count": 48,
   "metadata": {
    "collapsed": true
   },
   "outputs": [],
   "source": []
  },
  {
   "cell_type": "code",
   "execution_count": 49,
   "metadata": {
    "collapsed": true
   },
   "outputs": [],
   "source": []
  },
  {
   "cell_type": "code",
   "execution_count": 50,
   "metadata": {
    "collapsed": true
   },
   "outputs": [],
   "source": []
  },
  {
   "cell_type": "code",
   "execution_count": 51,
   "metadata": {
    "collapsed": true
   },
   "outputs": [],
   "source": [
    "\n"
   ]
  },
  {
   "cell_type": "code",
   "execution_count": 52,
   "metadata": {
    "collapsed": true
   },
   "outputs": [],
   "source": [
    "\n"
   ]
  },
  {
   "cell_type": "code",
   "execution_count": 53,
   "metadata": {},
   "outputs": [
    {
     "name": "stdout",
     "output_type": "stream",
     "text": [
      "Optimize a model with 10 rows, 25 columns and 50 nonzeros\n",
      "Variable types: 0 continuous, 25 integer (25 binary)\n",
      "Coefficient statistics:\n",
      "  Matrix range     [1e+00, 1e+00]\n",
      "  Objective range  [6e-01, 1e+03]\n",
      "  Bounds range     [1e+00, 1e+00]\n",
      "  RHS range        [1e+00, 1e+00]\n",
      "Found heuristic solution: objective -0\n",
      "\n",
      "Explored 0 nodes (0 simplex iterations) in 0.01 seconds\n",
      "Thread count was 1 (of 8 available processors)\n",
      "\n",
      "Solution count 1: -0 \n",
      "\n",
      "Optimal solution found (tolerance 1.00e-04)\n",
      "Best objective -0.000000000000e+00, best bound -0.000000000000e+00, gap 0.0000%\n"
     ]
    }
   ],
   "source": [
    "\n"
   ]
  },
  {
   "cell_type": "code",
   "execution_count": 60,
   "metadata": {},
   "outputs": [
    {
     "name": "stdout",
     "output_type": "stream",
     "text": [
      "runtime is 0.0195119380951 s\n",
      "[[ 0.  0.  0.  0.  0.]\n",
      " [ 0.  0.  0.  0.  0.]\n",
      " [ 0.  0.  0.  0.  0.]\n",
      " [ 0.  0.  0.  0.  0.]\n",
      " [ 0.  0.  0.  0.  0.]]\n",
      "/home/david/Dropbox/Ubuntu/Convex_Optimization/Project/Experiments/3_obj/csv_3_22\n"
     ]
    }
   ],
   "source": []
  },
  {
   "cell_type": "code",
   "execution_count": null,
   "metadata": {
    "collapsed": true
   },
   "outputs": [],
   "source": []
  }
 ],
 "metadata": {
  "kernelspec": {
   "display_name": "Python 2",
   "language": "python",
   "name": "python2"
  },
  "language_info": {
   "codemirror_mode": {
    "name": "ipython",
    "version": 2
   },
   "file_extension": ".py",
   "mimetype": "text/x-python",
   "name": "python",
   "nbconvert_exporter": "python",
   "pygments_lexer": "ipython2",
   "version": "2.7.12"
  }
 },
 "nbformat": 4,
 "nbformat_minor": 2
}
