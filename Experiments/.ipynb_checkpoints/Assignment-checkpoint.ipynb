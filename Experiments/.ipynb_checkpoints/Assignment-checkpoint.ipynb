{
 "cells": [
  {
   "cell_type": "code",
   "execution_count": 56,
   "metadata": {
    "collapsed": true
   },
   "outputs": [],
   "source": [
    "# Solve a generalized assignment problem between the different tracklets \n",
    "# setting similarity weights on the assignments such that we maximize the\n",
    "# total assignment weigthed objective and match the most likely tracklets\n",
    "from gurobipy import *\n",
    "from numpy import *"
   ]
  },
  {
   "cell_type": "code",
   "execution_count": 71,
   "metadata": {},
   "outputs": [],
   "source": [
    "# Set the data\n",
    "\n",
    "P = loadtxt(open(\"Sim.csv\", \"rb\"), delimiter=\",\")\n",
    "\n",
    "numT = shape(P)[1]\n",
    "numC = numT\n",
    "\n",
    "T=range(numT)\n",
    "C=range(numC)"
   ]
  },
  {
   "cell_type": "code",
   "execution_count": 72,
   "metadata": {
    "collapsed": true
   },
   "outputs": [],
   "source": [
    "# Initialize the model\n",
    "m=Model(\"Assignment\")"
   ]
  },
  {
   "cell_type": "code",
   "execution_count": 73,
   "metadata": {},
   "outputs": [],
   "source": [
    "# Define the binary variables Xs\n",
    "X = []\n",
    "for t in T:\n",
    "    X.append([])\n",
    "    for c in C:\n",
    "        X[t].append(m.addVar(vtype=GRB.BINARY,name=\"X%d%d\"% (t, c)))\n"
   ]
  },
  {
   "cell_type": "code",
   "execution_count": 74,
   "metadata": {
    "collapsed": true
   },
   "outputs": [],
   "source": [
    "# Set the optimization direction\n",
    "m.update()\n",
    "m.modelSense = GRB.MAXIMIZE"
   ]
  },
  {
   "cell_type": "code",
   "execution_count": 75,
   "metadata": {},
   "outputs": [],
   "source": [
    "# Define the assignment constraints\n",
    "constraintT = []\n",
    "constraintC = []\n",
    "\n",
    "# One variable assigned per column\n",
    "for t in range(numT):\n",
    "    constraintT.append(m.addConstr(quicksum(X[t][c] for c in range(numC))\n",
    "                                   <= 1 ,'constraintT%d' % t))\n",
    "\n",
    "# One variable assigned per row\n",
    "for c in range(numC):\n",
    "    constraintT.append(m.addConstr(quicksum(X[t][c] for t in range(numT))\n",
    "                                   <= 1 ,'constraintC%d' % t))\n"
   ]
  },
  {
   "cell_type": "code",
   "execution_count": 76,
   "metadata": {
    "collapsed": true
   },
   "outputs": [],
   "source": [
    "# Define objective\n",
    "m.setObjective(quicksum(quicksum([X[t][c]*P[t][c] \n",
    "                        for c in range(numC)]) \n",
    "                        for t in range(numT)))\n",
    "\n",
    "m.update()\n"
   ]
  },
  {
   "cell_type": "code",
   "execution_count": 77,
   "metadata": {},
   "outputs": [
    {
     "name": "stdout",
     "output_type": "stream",
     "text": [
      "Optimize a model with 10 rows, 25 columns and 50 nonzeros\n",
      "Variable types: 0 continuous, 25 integer (25 binary)\n",
      "Coefficient statistics:\n",
      "  Matrix range     [1e+00, 1e+00]\n",
      "  Objective range  [2e-02, 1e+03]\n",
      "  Bounds range     [1e+00, 1e+00]\n",
      "  RHS range        [1e+00, 1e+00]\n",
      "Found heuristic solution: objective 0.02\n",
      "\n",
      "Explored 0 nodes (0 simplex iterations) in 0.01 seconds\n",
      "Thread count was 1 (of 8 available processors)\n",
      "\n",
      "Solution count 1: 0.02 \n",
      "\n",
      "Optimal solution found (tolerance 1.00e-04)\n",
      "Best objective 2.000000000000e-02, best bound 2.000000000000e-02, gap 0.0000%\n"
     ]
    }
   ],
   "source": [
    "# Solve the optimization problem\n",
    "m.optimize()\n"
   ]
  },
  {
   "cell_type": "code",
   "execution_count": 78,
   "metadata": {},
   "outputs": [
    {
     "name": "stdout",
     "output_type": "stream",
     "text": [
      "runtime is 0.0175020694733 s\n",
      "0 -> 3\n"
     ]
    }
   ],
   "source": [
    "# Print runtime and solution\n",
    "\n",
    "print 'runtime is',m.Runtime, 's'\n",
    "\n",
    "# Print solution\n",
    "if m.status == GRB.Status.OPTIMAL:\n",
    "    for t in range(numT):\n",
    "        for c in range(numC):\n",
    "            if X[c][t].x > 0.5:\n",
    "                print('%g -> %g' % (c, t))"
   ]
  },
  {
   "cell_type": "code",
   "execution_count": null,
   "metadata": {
    "collapsed": true
   },
   "outputs": [],
   "source": []
  }
 ],
 "metadata": {
  "kernelspec": {
   "display_name": "Python 2",
   "language": "python",
   "name": "python2"
  },
  "language_info": {
   "codemirror_mode": {
    "name": "ipython",
    "version": 2
   },
   "file_extension": ".py",
   "mimetype": "text/x-python",
   "name": "python",
   "nbconvert_exporter": "python",
   "pygments_lexer": "ipython2",
   "version": "2.7.12"
  }
 },
 "nbformat": 4,
 "nbformat_minor": 2
}
