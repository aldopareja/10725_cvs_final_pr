{
 "cells": [
  {
   "cell_type": "code",
   "execution_count": 180,
   "metadata": {},
   "outputs": [],
   "source": [
    "import matplotlib.pyplot as plt\n",
    "import numpy as np\n",
    "import os"
   ]
  },
  {
   "cell_type": "code",
   "execution_count": 225,
   "metadata": {},
   "outputs": [],
   "source": [
    "root = '5_obj/'\n",
    "folders = os.listdir(root)\n",
    "all_alphas = {}\n",
    "all_y_stars = {}\n",
    "all_cm = {}\n",
    "all_ass = {}\n",
    "for folder in folders:\n",
    "    files = os.listdir(root + folder)\n",
    "    alphas = {}\n",
    "    y_stars = {}\n",
    "    for f in files:\n",
    "        if f.startswith('correct'):\n",
    "            dic = os.path.join(root,folder,f)\n",
    "            cm = np.genfromtxt(dic, delimiter=',')\n",
    "            cm = cm[1:,1:]\n",
    "        elif f == \"Assignment.csv\":\n",
    "            dic = os.path.join(root,folder,f)\n",
    "            ass = np.genfromtxt(dic, delimiter=',')\n",
    "        elif f.startswith('alpha'):\n",
    "            dic = os.path.join(root,folder,f)\n",
    "            t = f.split(sep='alpha')[1].split(sep='.')[0]\n",
    "            alphas[t] = np.genfromtxt(dic, delimiter=',')\n",
    "        elif f.startswith('y_star'):\n",
    "            dic = os.path.join(root,folder,f)\n",
    "            t = f.split('y_star_')[1].split('.')[0]\n",
    "            y_stars[t] = np.genfromtxt(dic, delimiter=',')\n",
    "#         if folder == 'csv_3_13':\n",
    "            \n",
    "    all_alphas[folder] = alphas\n",
    "    all_y_stars[folder] = y_stars\n",
    "    all_ass[folder] = ass\n",
    "    all_cm[folder] = cm"
   ]
  },
  {
   "cell_type": "code",
   "execution_count": 226,
   "metadata": {},
   "outputs": [],
   "source": [
    "# print(ass)\n",
    "#let's get the ass format from cm\n",
    "to_rem = []\n",
    "for k in all_ass.keys():\n",
    "    ass = all_ass[k]\n",
    "    cm = all_cm[k]\n",
    "#     print(k)\n",
    "    if len(cm.shape) == 1:\n",
    "        print(k,cm.shape)\n",
    "    if len(ass.shape) == 1:\n",
    "#         print(k)\n",
    "        if np.nanmax(cm) +1 != len(ass):\n",
    "            print(k)\n",
    "            print(ass)\n",
    "            print(cm)\n",
    "            to_rem.append(k)\n",
    "    else:\n",
    "        if np.nanmax(cm) +1 != ass.shape[1]:\n",
    "            print(k,' shape')\n",
    "            print(ass)\n",
    "            print(cm)\n",
    "            to_rem.append(k)\n",
    "            ass = ass[:,:np.nanmax(cm).astype('int') +1]\n",
    "            all_ass[k] = ass\n",
    "            \n",
    "for k in to_rem:\n",
    "    del all_ass[k]\n",
    "    del all_cm[k]\n",
    "    del all_y_stars[k]\n",
    "    del all_alphas[k]\n"
   ]
  },
  {
   "cell_type": "code",
   "execution_count": 227,
   "metadata": {},
   "outputs": [
    {
     "data": {
      "text/plain": [
       "0.8477653631284916"
      ]
     },
     "execution_count": 227,
     "metadata": {},
     "output_type": "execute_result"
    }
   ],
   "source": [
    "k = 'csv_5_13'\n",
    "dists = 0\n",
    "nums = 0\n",
    "for k in all_cm:\n",
    "    num_alphs = np.nanmax(all_cm[k])+1\n",
    "    num_alphs = num_alphs.astype('int')\n",
    "    new_cm = np.zeros((num_alphs,num_alphs))\n",
    "    all_cm[k]\n",
    "    for i in range(all_cm[k].shape[0]):\n",
    "        for j in range(all_cm[k].shape[1]-1):\n",
    "            if not np.isnan(all_cm[k][i,j+1]):\n",
    "                nx = all_cm[k][i,j+1].astype('int')\n",
    "                bf = all_cm[k][i,j].astype('int')\n",
    "                new_cm[bf,nx] = 1\n",
    "    #sometimes the shape is 1, othertimes is two\n",
    "    if len(all_ass[k].shape) == 1:\n",
    "        all_ass[k] = all_ass[k][np.newaxis,:]\n",
    "    new_ass = all_ass[k]\n",
    "    new_ass = np.pad(new_ass,pad_width=((0,num_alphs-new_ass.shape[0]),(0,0)),mode='constant')\n",
    "    temp = new_ass-new_cm\n",
    "    false_negatives = np.sum(temp[temp<0]**2)\n",
    "    false_positives = np.sum(temp[temp>0]**2)\n",
    "    true_positives = np.sum(new_ass)-false_positives\n",
    "#     print(new_ass)\n",
    "#     print(new_cm)\n",
    "#     print(temp)\n",
    "    temp = np.sum(temp**2,axis=1)\n",
    "#     print(temp)\n",
    "    temp = len(np.where(temp==0)[0])\n",
    "#     print(temp)\n",
    "#     print(false_negatives,false_positives,true_positives)\n",
    "    dists+=temp\n",
    "    nums+= num_alphs\n",
    "dists/nums\n"
   ]
  },
  {
   "cell_type": "code",
   "execution_count": 81,
   "metadata": {},
   "outputs": [
    {
     "data": {
      "text/plain": [
       "(array([2, 3]),)"
      ]
     },
     "execution_count": 81,
     "metadata": {},
     "output_type": "execute_result"
    }
   ],
   "source": [
    "t = np.arange(10).reshape((5,2))\n",
    "x = np.arange(10).reshape((5,2))+5\n",
    "t = np.array([0,0,1,-2,0])\n",
    "np.where(t!=0)"
   ]
  }
 ],
 "metadata": {
  "kernelspec": {
   "display_name": "Python 3",
   "language": "python",
   "name": "python3"
  },
  "language_info": {
   "codemirror_mode": {
    "name": "ipython",
    "version": 3
   },
   "file_extension": ".py",
   "mimetype": "text/x-python",
   "name": "python",
   "nbconvert_exporter": "python",
   "pygments_lexer": "ipython3",
   "version": "3.6.3"
  }
 },
 "nbformat": 4,
 "nbformat_minor": 2
}
